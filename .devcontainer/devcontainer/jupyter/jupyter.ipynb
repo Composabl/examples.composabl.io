{
 "cells": [
  {
   "cell_type": "code",
   "execution_count": null,
   "metadata": {},
   "outputs": [],
   "source": [
    "V_PYTHON=3.8\n",
    "!sudo apt-get update -y\n",
    "!sudo apt-get install python$V_PYTHON python$V_PYTHON-dev python$V_PYTHON-distutils libpython$V_PYTHON-dev python$V_PYTHON-venv binfmt-support\n",
    "\n",
    "# Set default\n",
    "!sudo update-alternatives --install /usr/bin/python3 python3 /usr/bin/python$V_PYTHON 1\n",
    "# !sudo update-alternatives --install /usr/bin/python3 python3 /usr/bin/python3.9 2\n",
    "\n",
    "# Confirm the Python Version\n",
    "!python --version\n",
    "\n",
    "# Install pip\n",
    "!python3.8 < <(curl -s https://bootstrap.pypa.io/get-pip.py)"
   ]
  }
 ],
 "metadata": {
  "language_info": {
   "name": "python"
  },
  "orig_nbformat": 4
 },
 "nbformat": 4,
 "nbformat_minor": 2
}
